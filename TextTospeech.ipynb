{
  "nbformat": 4,
  "nbformat_minor": 0,
  "metadata": {
    "colab": {
      "provenance": [],
      "authorship_tag": "ABX9TyOtH+J/iconGxdHEHAsv0s1",
      "include_colab_link": true
    },
    "kernelspec": {
      "name": "python3",
      "display_name": "Python 3"
    },
    "language_info": {
      "name": "python"
    }
  },
  "cells": [
    {
      "cell_type": "markdown",
      "metadata": {
        "id": "view-in-github",
        "colab_type": "text"
      },
      "source": [
        "<a href=\"https://colab.research.google.com/github/KISHANJB/Sign-Language-Recognition/blob/main/TextTospeech.ipynb\" target=\"_parent\"><img src=\"https://colab.research.google.com/assets/colab-badge.svg\" alt=\"Open In Colab\"/></a>"
      ]
    },
    {
      "cell_type": "code",
      "source": [
        "pip install playsound"
      ],
      "metadata": {
        "colab": {
          "base_uri": "https://localhost:8080/"
        },
        "id": "k6NWaqrHf7Dt",
        "outputId": "204f4bcf-6549-40e5-ab8c-66df1caf2650"
      },
      "execution_count": null,
      "outputs": [
        {
          "output_type": "stream",
          "name": "stdout",
          "text": [
            "Looking in indexes: https://pypi.org/simple, https://us-python.pkg.dev/colab-wheels/public/simple/\n",
            "Collecting playsound\n",
            "  Downloading playsound-1.3.0.tar.gz (7.7 kB)\n",
            "  Preparing metadata (setup.py) ... \u001b[?25l\u001b[?25hdone\n",
            "Building wheels for collected packages: playsound\n",
            "  Building wheel for playsound (setup.py) ... \u001b[?25l\u001b[?25hdone\n",
            "  Created wheel for playsound: filename=playsound-1.3.0-py3-none-any.whl size=7035 sha256=940f761698e0e35009d3fb275380737ed35f1a1fe826eedf4a8c31c86dcade28\n",
            "  Stored in directory: /root/.cache/pip/wheels/90/89/ed/2d643f4226fc8c7c9156fc28abd8051e2d2c0de37ae51ac45c\n",
            "Successfully built playsound\n",
            "Installing collected packages: playsound\n",
            "Successfully installed playsound-1.3.0\n"
          ]
        }
      ]
    },
    {
      "cell_type": "code",
      "source": [
        "pip install pydub"
      ],
      "metadata": {
        "colab": {
          "base_uri": "https://localhost:8080/"
        },
        "id": "tZ9nNZpMgyky",
        "outputId": "d62d20ff-3936-490b-937f-17004dfc2d2e"
      },
      "execution_count": null,
      "outputs": [
        {
          "output_type": "stream",
          "name": "stdout",
          "text": [
            "Looking in indexes: https://pypi.org/simple, https://us-python.pkg.dev/colab-wheels/public/simple/\n",
            "Collecting pydub\n",
            "  Downloading pydub-0.25.1-py2.py3-none-any.whl (32 kB)\n",
            "Installing collected packages: pydub\n",
            "Successfully installed pydub-0.25.1\n"
          ]
        }
      ]
    },
    {
      "cell_type": "code",
      "execution_count": null,
      "metadata": {
        "colab": {
          "base_uri": "https://localhost:8080/",
          "height": 380
        },
        "id": "9bVyFox46KKj",
        "outputId": "ba43f762-0b57-4678-844d-2cdf5e3a839f"
      },
      "outputs": [
        {
          "output_type": "error",
          "ename": "AttributeError",
          "evalue": "ignored",
          "traceback": [
            "\u001b[0;31m---------------------------------------------------------------------------\u001b[0m",
            "\u001b[0;31mAttributeError\u001b[0m                            Traceback (most recent call last)",
            "\u001b[0;32m<ipython-input-12-3e3cd061184b>\u001b[0m in \u001b[0;36m<cell line: 73>\u001b[0;34m()\u001b[0m\n\u001b[1;32m     71\u001b[0m \u001b[0;31m# Saving the converted audio in a mp3 file named\u001b[0m\u001b[0;34m\u001b[0m\u001b[0;34m\u001b[0m\u001b[0m\n\u001b[1;32m     72\u001b[0m \u001b[0mmyobj\u001b[0m\u001b[0;34m.\u001b[0m\u001b[0msave\u001b[0m\u001b[0;34m(\u001b[0m\u001b[0;34m\"ado.mp3\"\u001b[0m\u001b[0;34m)\u001b[0m\u001b[0;34m\u001b[0m\u001b[0;34m\u001b[0m\u001b[0m\n\u001b[0;32m---> 73\u001b[0;31m \u001b[0msong\u001b[0m \u001b[0;34m=\u001b[0m \u001b[0mAudioSegment\u001b[0m\u001b[0;34m.\u001b[0m\u001b[0mfrom_mp3\u001b[0m\u001b[0;34m(\u001b[0m\u001b[0mmyobj\u001b[0m\u001b[0;34m)\u001b[0m\u001b[0;34m\u001b[0m\u001b[0;34m\u001b[0m\u001b[0m\n\u001b[0m\u001b[1;32m     74\u001b[0m \u001b[0;31m# Playing the converted file\u001b[0m\u001b[0;34m\u001b[0m\u001b[0;34m\u001b[0m\u001b[0m\n\u001b[1;32m     75\u001b[0m \u001b[0mplay\u001b[0m\u001b[0;34m(\u001b[0m\u001b[0msong\u001b[0m\u001b[0;34m)\u001b[0m\u001b[0;34m\u001b[0m\u001b[0;34m\u001b[0m\u001b[0m\n",
            "\u001b[0;32m/usr/local/lib/python3.10/dist-packages/pydub/audio_segment.py\u001b[0m in \u001b[0;36mfrom_mp3\u001b[0;34m(cls, file, parameters)\u001b[0m\n\u001b[1;32m    794\u001b[0m     \u001b[0;34m@\u001b[0m\u001b[0mclassmethod\u001b[0m\u001b[0;34m\u001b[0m\u001b[0;34m\u001b[0m\u001b[0m\n\u001b[1;32m    795\u001b[0m     \u001b[0;32mdef\u001b[0m \u001b[0mfrom_mp3\u001b[0m\u001b[0;34m(\u001b[0m\u001b[0mcls\u001b[0m\u001b[0;34m,\u001b[0m \u001b[0mfile\u001b[0m\u001b[0;34m,\u001b[0m \u001b[0mparameters\u001b[0m\u001b[0;34m=\u001b[0m\u001b[0;32mNone\u001b[0m\u001b[0;34m)\u001b[0m\u001b[0;34m:\u001b[0m\u001b[0;34m\u001b[0m\u001b[0;34m\u001b[0m\u001b[0m\n\u001b[0;32m--> 796\u001b[0;31m         \u001b[0;32mreturn\u001b[0m \u001b[0mcls\u001b[0m\u001b[0;34m.\u001b[0m\u001b[0mfrom_file\u001b[0m\u001b[0;34m(\u001b[0m\u001b[0mfile\u001b[0m\u001b[0;34m,\u001b[0m \u001b[0;34m'mp3'\u001b[0m\u001b[0;34m,\u001b[0m \u001b[0mparameters\u001b[0m\u001b[0;34m=\u001b[0m\u001b[0mparameters\u001b[0m\u001b[0;34m)\u001b[0m\u001b[0;34m\u001b[0m\u001b[0;34m\u001b[0m\u001b[0m\n\u001b[0m\u001b[1;32m    797\u001b[0m \u001b[0;34m\u001b[0m\u001b[0m\n\u001b[1;32m    798\u001b[0m     \u001b[0;34m@\u001b[0m\u001b[0mclassmethod\u001b[0m\u001b[0;34m\u001b[0m\u001b[0;34m\u001b[0m\u001b[0m\n",
            "\u001b[0;32m/usr/local/lib/python3.10/dist-packages/pydub/audio_segment.py\u001b[0m in \u001b[0;36mfrom_file\u001b[0;34m(cls, file, format, codec, parameters, start_second, duration, **kwargs)\u001b[0m\n\u001b[1;32m    721\u001b[0m                 \u001b[0mconversion_command\u001b[0m \u001b[0;34m+=\u001b[0m \u001b[0;34m[\u001b[0m\u001b[0;34m\"-i\"\u001b[0m\u001b[0;34m,\u001b[0m \u001b[0;34m\"-\"\u001b[0m\u001b[0;34m]\u001b[0m\u001b[0;34m\u001b[0m\u001b[0;34m\u001b[0m\u001b[0m\n\u001b[1;32m    722\u001b[0m             \u001b[0mstdin_parameter\u001b[0m \u001b[0;34m=\u001b[0m \u001b[0msubprocess\u001b[0m\u001b[0;34m.\u001b[0m\u001b[0mPIPE\u001b[0m\u001b[0;34m\u001b[0m\u001b[0;34m\u001b[0m\u001b[0m\n\u001b[0;32m--> 723\u001b[0;31m             \u001b[0mstdin_data\u001b[0m \u001b[0;34m=\u001b[0m \u001b[0mfile\u001b[0m\u001b[0;34m.\u001b[0m\u001b[0mread\u001b[0m\u001b[0;34m(\u001b[0m\u001b[0;34m)\u001b[0m\u001b[0;34m\u001b[0m\u001b[0;34m\u001b[0m\u001b[0m\n\u001b[0m\u001b[1;32m    724\u001b[0m \u001b[0;34m\u001b[0m\u001b[0m\n\u001b[1;32m    725\u001b[0m         \u001b[0;32mif\u001b[0m \u001b[0mcodec\u001b[0m\u001b[0;34m:\u001b[0m\u001b[0;34m\u001b[0m\u001b[0;34m\u001b[0m\u001b[0m\n",
            "\u001b[0;31mAttributeError\u001b[0m: 'gTTS' object has no attribute 'read'"
          ]
        }
      ],
      "source": [
        "import pydub\n",
        "from pydub import AudioSegment\n",
        "from pydub.playback import play\n",
        "from gtts import gTTS\n",
        "import os\n",
        "import sys\n",
        "#import msvcrt\n",
        "\n",
        "text_en  = \"HELLO KISHAN\"\n",
        "# Language in which you want to convert\n",
        "language = 'en'\n",
        "\n",
        "## Supported Languages <a name=\"lang_list\"></a>\n",
        "\n",
        "\n",
        "# * 'af' : 'Afrikaans'\n",
        "# * 'sq' : 'Albanian'\n",
        "# * 'ar' : 'Arabic'\n",
        "# * 'hy' : 'Armenian'\n",
        "# * 'bn' : 'Bengali'\n",
        "# * 'ca' : 'Catalan'\n",
        "# * 'zh' : 'Chinese'\n",
        "# * 'zh-cn' : 'Chinese (Mandarin/China)'\n",
        "# * 'zh-tw' : 'Chinese (Mandarin/Taiwan)'\n",
        "# * 'zh-yue' : 'Chinese (Cantonese)'\n",
        "# * 'hr' : 'Croatian'\n",
        "# * 'cs' : 'Czech'\n",
        "# * 'da' : 'Danish'\n",
        "# * 'nl' : 'Dutch'\n",
        "# * 'en' : 'English'\n",
        "# * 'en-au' : 'English (Australia)'\n",
        "# * 'en-uk' : 'English (United Kingdom)'\n",
        "# * 'en-us' : 'English (United States)'\n",
        "# * 'eo' : 'Esperanto'\n",
        "# * 'fi' : 'Finnish'\n",
        "# * 'fr' : 'French'\n",
        "# * 'de' : 'German'\n",
        "# * 'el' : 'Greek'\n",
        "# * 'hi' : 'Hindi'\n",
        "# * 'hu' : 'Hungarian'\n",
        "# * 'is' : 'Icelandic'\n",
        "# * 'id' : 'Indonesian'\n",
        "# * 'it' : 'Italian'\n",
        "# * 'ja' : 'Japanese'\n",
        "# * 'km' : 'Khmer (Cambodian)'\n",
        "# * 'ko' : 'Korean'\n",
        "# * 'la' : 'Latin'\n",
        "# * 'lv' : 'Latvian'\n",
        "# * 'mk' : 'Macedonian'\n",
        "# * 'no' : 'Norwegian'\n",
        "# * 'pl' : 'Polish'\n",
        "# * 'pt' : 'Portuguese'\n",
        "# * 'ro' : 'Romanian'\n",
        "# * 'ru' : 'Russian'\n",
        "# * 'sr' : 'Serbian'\n",
        "# * 'si' : 'Sinhala'\n",
        "# * 'sk' : 'Slovak'\n",
        "# * 'es' : 'Spanish'\n",
        "# * 'es-es' : 'Spanish (Spain)'\n",
        "# * 'es-us' : 'Spanish (United States)'\n",
        "# * 'sw' : 'Swahili'\n",
        "# * 'sv' : 'Swedish'\n",
        "# * 'ta' : 'Tamil'\n",
        "# * 'th' : 'Thai'\n",
        "# * 'tr' : 'Turkish'\n",
        "# * 'uk' : 'Ukrainian'\n",
        "# * 'vi' : 'Vietnamese'\n",
        "# * 'cy' : 'Welsh'\n",
        "myobj = gTTS(text=text_en, lang=language, slow=False)\n",
        "\n",
        "# Saving the converted audio in a mp3 file named\n",
        "myobj.save(\"ado.mp3\")\n",
        "song = AudioSegment.from_mp3(myobj)\n",
        "# Playing the converted file\n",
        "play(song)"
      ]
    },
    {
      "cell_type": "code",
      "source": [
        "pip install gTTs"
      ],
      "metadata": {
        "colab": {
          "base_uri": "https://localhost:8080/"
        },
        "id": "TTpCLQzMgPVA",
        "outputId": "8d93debb-942f-4691-f4f1-e1a50679f310"
      },
      "execution_count": null,
      "outputs": [
        {
          "output_type": "stream",
          "name": "stdout",
          "text": [
            "Looking in indexes: https://pypi.org/simple, https://us-python.pkg.dev/colab-wheels/public/simple/\n",
            "Collecting gTTs\n",
            "  Downloading gTTS-2.3.2-py3-none-any.whl (28 kB)\n",
            "Requirement already satisfied: requests<3,>=2.27 in /usr/local/lib/python3.10/dist-packages (from gTTs) (2.27.1)\n",
            "Requirement already satisfied: click<8.2,>=7.1 in /usr/local/lib/python3.10/dist-packages (from gTTs) (8.1.3)\n",
            "Requirement already satisfied: charset-normalizer~=2.0.0 in /usr/local/lib/python3.10/dist-packages (from requests<3,>=2.27->gTTs) (2.0.12)\n",
            "Requirement already satisfied: urllib3<1.27,>=1.21.1 in /usr/local/lib/python3.10/dist-packages (from requests<3,>=2.27->gTTs) (1.26.15)\n",
            "Requirement already satisfied: idna<4,>=2.5 in /usr/local/lib/python3.10/dist-packages (from requests<3,>=2.27->gTTs) (3.4)\n",
            "Requirement already satisfied: certifi>=2017.4.17 in /usr/local/lib/python3.10/dist-packages (from requests<3,>=2.27->gTTs) (2022.12.7)\n",
            "Installing collected packages: gTTs\n",
            "Successfully installed gTTs-2.3.2\n"
          ]
        }
      ]
    },
    {
      "cell_type": "code",
      "source": [
        "pip install msvcrt"
      ],
      "metadata": {
        "colab": {
          "base_uri": "https://localhost:8080/"
        },
        "id": "bwDxmYeigj_3",
        "outputId": "db8eacd3-40e4-4907-c7a8-3728521274e6"
      },
      "execution_count": null,
      "outputs": [
        {
          "output_type": "stream",
          "name": "stdout",
          "text": [
            "Looking in indexes: https://pypi.org/simple, https://us-python.pkg.dev/colab-wheels/public/simple/\n",
            "\u001b[31mERROR: Could not find a version that satisfies the requirement msvcrt (from versions: none)\u001b[0m\u001b[31m\n",
            "\u001b[0m\u001b[31mERROR: No matching distribution found for msvcrt\u001b[0m\u001b[31m\n",
            "\u001b[0m"
          ]
        }
      ]
    },
    {
      "cell_type": "code",
      "source": [
        "import playsound\n",
        "from playsound import playsound\n",
        "#import gTTs\n",
        "#from gTTs import gTTS\n",
        "import os\n",
        "import sys\n",
        "#import msvcrt\n",
        "\n",
        "text_en  = \"Hello World\"\n",
        "# Language in which you want to convert\n",
        "language = 'en'\n",
        "\n",
        "## Supported Languages <a name=\"lang_list\"></a>\n",
        "\n",
        "\n",
        "# * 'af' : 'Afrikaans'\n",
        "# * 'sq' : 'Albanian'\n",
        "# * 'ar' : 'Arabic'\n",
        "# * 'hy' : 'Armenian'\n",
        "# * 'bn' : 'Bengali'\n",
        "# * 'ca' : 'Catalan'\n",
        "# * 'zh' : 'Chinese'\n",
        "# * 'zh-cn' : 'Chinese (Mandarin/China)'\n",
        "# * 'zh-tw' : 'Chinese (Mandarin/Taiwan)'\n",
        "# * 'zh-yue' : 'Chinese (Cantonese)'\n",
        "# * 'hr' : 'Croatian'\n",
        "# * 'cs' : 'Czech'\n",
        "# * 'da' : 'Danish'\n",
        "# * 'nl' : 'Dutch'\n",
        "# * 'en' : 'English'\n",
        "# * 'en-au' : 'English (Australia)'\n",
        "# * 'en-uk' : 'English (United Kingdom)'\n",
        "# * 'en-us' : 'English (United States)'\n",
        "# * 'eo' : 'Esperanto'\n",
        "# * 'fi' : 'Finnish'\n",
        "# * 'fr' : 'French'\n",
        "# * 'de' : 'German'\n",
        "# * 'el' : 'Greek'\n",
        "# * 'hi' : 'Hindi'\n",
        "# * 'hu' : 'Hungarian'\n",
        "# * 'is' : 'Icelandic'\n",
        "# * 'id' : 'Indonesian'\n",
        "# * 'it' : 'Italian'\n",
        "# * 'ja' : 'Japanese'\n",
        "# * 'km' : 'Khmer (Cambodian)'\n",
        "# * 'ko' : 'Korean'\n",
        "# * 'la' : 'Latin'\n",
        "# * 'lv' : 'Latvian'\n",
        "# * 'mk' : 'Macedonian'\n",
        "# * 'no' : 'Norwegian'\n",
        "# * 'pl' : 'Polish'\n",
        "# * 'pt' : 'Portuguese'\n",
        "# * 'ro' : 'Romanian'\n",
        "# * 'ru' : 'Russian'\n",
        "# * 'sr' : 'Serbian'\n",
        "# * 'si' : 'Sinhala'\n",
        "# * 'sk' : 'Slovak'\n",
        "# * 'es' : 'Spanish'\n",
        "# * 'es-es' : 'Spanish (Spain)'\n",
        "# * 'es-us' : 'Spanish (United States)'\n",
        "# * 'sw' : 'Swahili'\n",
        "# * 'sv' : 'Swedish'\n",
        "# * 'ta' : 'Tamil'\n",
        "# * 'th' : 'Thai'\n",
        "# * 'tr' : 'Turkish'\n",
        "# * 'uk' : 'Ukrainian'\n",
        "# * 'vi' : 'Vietnamese'\n",
        "# * 'cy' : 'Welsh'\n",
        "myobj = gTTS(text=text_en, lang=language, slow=False)\n",
        "\n",
        "# Saving the converted audio in a mp3 file named\n",
        "myobj.save(\"ado.mp3\")\n",
        "playsound(myobj)\n",
        "# Playing the converted file"
      ],
      "metadata": {
        "colab": {
          "base_uri": "https://localhost:8080/",
          "height": 235
        },
        "id": "NoptBdNl6ixr",
        "outputId": "0b408c94-e743-429c-f6cf-077c00c26f6f"
      },
      "execution_count": null,
      "outputs": [
        {
          "output_type": "error",
          "ename": "NameError",
          "evalue": "ignored",
          "traceback": [
            "\u001b[0;31m---------------------------------------------------------------------------\u001b[0m",
            "\u001b[0;31mNameError\u001b[0m                                 Traceback (most recent call last)",
            "\u001b[0;32m<ipython-input-8-2e067b4ae606>\u001b[0m in \u001b[0;36m<cell line: 69>\u001b[0;34m()\u001b[0m\n\u001b[1;32m     67\u001b[0m \u001b[0;31m# * 'vi' : 'Vietnamese'\u001b[0m\u001b[0;34m\u001b[0m\u001b[0;34m\u001b[0m\u001b[0m\n\u001b[1;32m     68\u001b[0m \u001b[0;31m# * 'cy' : 'Welsh'\u001b[0m\u001b[0;34m\u001b[0m\u001b[0;34m\u001b[0m\u001b[0m\n\u001b[0;32m---> 69\u001b[0;31m \u001b[0mmyobj\u001b[0m \u001b[0;34m=\u001b[0m \u001b[0mgTTS\u001b[0m\u001b[0;34m(\u001b[0m\u001b[0mtext\u001b[0m\u001b[0;34m=\u001b[0m\u001b[0mtext_en\u001b[0m\u001b[0;34m,\u001b[0m \u001b[0mlang\u001b[0m\u001b[0;34m=\u001b[0m\u001b[0mlanguage\u001b[0m\u001b[0;34m,\u001b[0m \u001b[0mslow\u001b[0m\u001b[0;34m=\u001b[0m\u001b[0;32mFalse\u001b[0m\u001b[0;34m)\u001b[0m\u001b[0;34m\u001b[0m\u001b[0;34m\u001b[0m\u001b[0m\n\u001b[0m\u001b[1;32m     70\u001b[0m \u001b[0;34m\u001b[0m\u001b[0m\n\u001b[1;32m     71\u001b[0m \u001b[0;31m# Saving the converted audio in a mp3 file named\u001b[0m\u001b[0;34m\u001b[0m\u001b[0;34m\u001b[0m\u001b[0m\n",
            "\u001b[0;31mNameError\u001b[0m: name 'gTTS' is not defined"
          ]
        }
      ]
    }
  ]
}